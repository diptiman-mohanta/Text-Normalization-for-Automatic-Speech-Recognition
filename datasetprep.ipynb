{
 "cells": [
  {
   "cell_type": "code",
   "execution_count": null,
   "id": "4f83147c",
   "metadata": {},
   "outputs": [],
   "source": [
    "import os\n",
    "import json\n",
    "\n",
    "# Path to your main dataset directory\n",
    "base_dir = r\"D:\\SPIRE Internship\\IISc_RESPIN_test_hi\"\n",
    "\n",
    "# Final dataset list\n",
    "dataset = []\n",
    "\n",
    "# Loop through each subfolder\n",
    "for root, dirs, files in os.walk(base_dir):\n",
    "    for file in files:\n",
    "        if file.endswith(\".txt\"):  # transcript file\n",
    "            transcript_path = os.path.join(root, file)\n",
    "            \n",
    "            # Read transcript file\n",
    "            with open(transcript_path, \"r\", encoding=\"utf-8\") as f:\n",
    "                for line in f:\n",
    "                    parts = line.strip().split(\"\\t\")\n",
    "                    if len(parts) != 2:\n",
    "                        continue  # skip malformed lines\n",
    "                    \n",
    "                    audio_id, transcript = parts\n",
    "                    audio_filename = audio_id + \".wav\"  # audio files should match\n",
    "                    \n",
    "                    audio_path = os.path.join(root, audio_filename)\n",
    "                    \n",
    "                    if os.path.exists(audio_path):\n",
    "                        dataset.append({\n",
    "                            \"audio\": audio_path,\n",
    "                            \"text\": transcript\n",
    "                        })\n",
    "                    else:\n",
    "                        print(f\"Warning: Audio file not found for {audio_id}\")\n",
    "\n",
    "# Save to JSON\n",
    "output_json = \"dataset_all.json\"\n",
    "with open(output_json, \"w\", encoding=\"utf-8\") as f:\n",
    "    json.dump(dataset, f, ensure_ascii=False, indent=2)\n",
    "\n",
    "print(f\"✅ Dataset created with {len(dataset)} samples. Saved at {output_json}\")\n"
   ]
  }
 ],
 "metadata": {
  "language_info": {
   "name": "python"
  }
 },
 "nbformat": 4,
 "nbformat_minor": 5
}
